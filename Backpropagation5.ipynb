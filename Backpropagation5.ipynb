{
  "nbformat": 4,
  "nbformat_minor": 0,
  "metadata": {
    "colab": {
      "name": "Backpropagation.ipynb",
      "provenance": [],
      "authorship_tag": "ABX9TyOuN0DSN1k+dbOmn2PEHZEZ",
      "include_colab_link": true
    },
    "kernelspec": {
      "name": "python3",
      "display_name": "Python 3"
    },
    "language_info": {
      "name": "python"
    }
  },
  "cells": [
    {
      "cell_type": "markdown",
      "metadata": {
        "id": "view-in-github",
        "colab_type": "text"
      },
      "source": [
        "<a href=\"https://colab.research.google.com/github/jpulkit12/lab3/blob/main/Backpropagation5.ipynb\" target=\"_parent\"><img src=\"https://colab.research.google.com/assets/colab-badge.svg\" alt=\"Open In Colab\"/></a>"
      ]
    },
    {
      "cell_type": "code",
      "execution_count": 2,
      "metadata": {
        "colab": {
          "base_uri": "https://localhost:8080/"
        },
        "id": "0F16TBGWBZ5j",
        "outputId": "a0d45354-92c4-44e1-e140-fd90ddb9c65f"
      },
      "outputs": [
        {
          "output_type": "stream",
          "name": "stdout",
          "text": [
            "Normalized Input: \n",
            "[[0.66666667 1.        ]\n",
            " [0.33333333 0.55555556]\n",
            " [1.         0.66666667]]\n",
            "Actual Output: \n",
            "[[0.92]\n",
            " [0.86]\n",
            " [0.89]]\n",
            "Predicted Output: \n",
            " [[0.89677162]\n",
            " [0.87925582]\n",
            " [0.89456645]]\n"
          ]
        }
      ],
      "source": [
        "import numpy as np \n",
        "X = np.array(([2, 9], [1, 5], [3, 6]), dtype=float)\n",
        "y = np.array(([92], [86], [89]), dtype=float)\n",
        "\n",
        "X = X/np.amax(X,axis=0) # Normalize \n",
        "y = y/100\n",
        "def sigmoid(x):\n",
        "    return 1/(1 + np.exp(-x))\n",
        "def sigmoid_grad(x):\n",
        "    return x * (1 - x)\n",
        "\n",
        "epoch=1000\n",
        "eta =0.2\n",
        "input_neurons = 2\n",
        "hidden_neurons = 3\n",
        "output_neurons = 1\n",
        "wh=np.random.uniform(size=(input_neurons,hidden_neurons))\t# 2x3 \n",
        "bh=np.random.uniform(size=(1,hidden_neurons))\t# 1x3 \n",
        "wout=np.random.uniform(size=(hidden_neurons,output_neurons)) # 1x1 \n",
        "bout=np.random.uniform(size=(1,output_neurons))\n",
        "for i in range(epoch):\n",
        "    h_ip=np.dot(X,wh) + bh \n",
        "    h_act = sigmoid(h_ip) \n",
        "    o_ip=np.dot(h_act,wout) + bout\n",
        "    output = sigmoid(o_ip)\n",
        "    \n",
        "    Eo = y-output \n",
        "    outgrad = sigmoid_grad(output)\n",
        "    d_output = Eo* outgrad\n",
        "    \n",
        "    Eh = d_output.dot(wout.T)\n",
        "    hiddengrad = sigmoid_grad(h_act) \n",
        "    d_hidden = Eh * hiddengrad\n",
        "    \n",
        "    wout += h_act.T.dot(d_output) *eta \n",
        "    wh += X.T.dot(d_output) *eta\n",
        "print(\"Normalized Input: \\n\" + str(X))\n",
        "print(\"Actual Output: \\n\" + str(y))\n",
        "print(\"Predicted Output: \\n\" ,output)"
      ]
    }
  ]
}