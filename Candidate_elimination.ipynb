{
  "nbformat": 4,
  "nbformat_minor": 0,
  "metadata": {
    "colab": {
      "name": "Candidate elimination.ipynb",
      "provenance": [],
      "authorship_tag": "ABX9TyOfQQLnqr0rFRPnkj65lWKa",
      "include_colab_link": true
    },
    "kernelspec": {
      "name": "python3",
      "display_name": "Python 3"
    },
    "language_info": {
      "name": "python"
    }
  },
  "cells": [
    {
      "cell_type": "markdown",
      "metadata": {
        "id": "view-in-github",
        "colab_type": "text"
      },
      "source": [
        "<a href=\"https://colab.research.google.com/github/jpulkit12/lab3/blob/main/Candidate_elimination.ipynb\" target=\"_parent\"><img src=\"https://colab.research.google.com/assets/colab-badge.svg\" alt=\"Open In Colab\"/></a>"
      ]
    },
    {
      "cell_type": "code",
      "execution_count": null,
      "metadata": {
        "colab": {
          "base_uri": "https://localhost:8080/"
        },
        "id": "XLDGiQn7fXRu",
        "outputId": "d1d6861d-bc12-4045-ec18-6bf35e7bce3c"
      },
      "outputs": [
        {
          "output_type": "stream",
          "name": "stdout",
          "text": [
            "The training examples\n",
            "\n",
            "['sunny', 'warm', 'normal', 'strong', 'warm', 'same', 'Yes']\n",
            "['sunny', 'warm', 'high', 'strong', 'warm', 'same', 'Yes']\n",
            "['rainy', 'cold', 'high', 'strong', 'warm', 'change', 'No']\n",
            "['sunny', 'warm', 'high', 'strong', 'cool', 'change', 'Yes']\n",
            "initial value of hypothesis:\n",
            "\n",
            "\n",
            "The most specific hypothesis S0 :[0,0,0,0,0,0]\n",
            "\n",
            " The most general hypothesis G0 : [?,?,?,?,?,?]\n",
            "The candidate elimination algorithm\n",
            "\n",
            "--------------------------------------------------------------------------------------------------------\n",
            "For training examples no :1 the hypothesis is S1 ['sunny', 'warm', 'normal', 'strong', 'warm', 'same']\n",
            "For training examples:1 the hypothesis is G1 ['?', '?', '?', '?', '?', '?']\n",
            "--------------------------------------------------------------------------------------------------------\n",
            "For training examples no :2 the hypothesis is S2 ['sunny', 'warm', '?', 'strong', 'warm', 'same']\n",
            "For training examples:2 the hypothesis is G2 ['?', '?', '?', '?', '?', '?']\n",
            "--------------------------------------------------------------------------------------------------------------\n",
            "Final Specific Hypothesis S3 ['sunny', 'warm', '?', 'strong', 'warm', 'same']\n",
            "Final General hypothesis G3 ['?', '?', '?', '?', '?', '?']\n",
            "--------------------------------------------------------------------------------------------------------\n",
            "For training examples no :4 the hypothesis is S4 ['sunny', 'warm', '?', 'strong', '?', '?']\n",
            "For training exampes:4 the hypothesis is G4 [['sunny', '?', '?', '?', '?', '?'], ['?', 'warm', '?', '?', '?', '?']]\n"
          ]
        }
      ],
      "source": [
        "import csv\n",
        "a = []\n",
        "print(\"The training examples\\n\")\n",
        "with open('enjoysport.csv','r') as csvfile:\n",
        "  reader = csv.reader(csvfile)\n",
        "  for row in reader:\n",
        "    a.append(row)\n",
        "    print(row)\n",
        "num_attributes = len(a[0])-1\n",
        "\n",
        "\n",
        "print(\"initial value of hypothesis:\\n\")\n",
        "S =['0'] *num_attributes\n",
        "G =['?'] *num_attributes\n",
        "print(\"\\nThe most specific hypothesis S0 :[0,0,0,0,0,0]\")\n",
        "print(\"\\n The most general hypothesis G0 : [?,?,?,?,?,?]\")\n",
        "for j in range(0,num_attributes):\n",
        "  S[j]= a[0][j];\n",
        "print(\"The candidate elimination algorithm\\n\")\n",
        "temp = []\n",
        "for i in range(len(a)):\n",
        "  if a[i][num_attributes]=='Yes':\n",
        "    for j in range(0,num_attributes):\n",
        "      if a[i][j]!=S[j]:\n",
        "        S[j]='?' \n",
        "    for j in range(0,num_attributes):\n",
        "      for k in range(1,len(temp)):\n",
        "        if temp[k][j]!='?'and temp[k][j]!=S[j]:\n",
        "          del temp[k]  \n",
        "    print(\"--------------------------------------------------------------------------------------------------------\")\n",
        "    print(\"For training examples no :{0} the hypothesis is S{0}\".format(i+1),S)\n",
        "    if(len(temp)==0):\n",
        "      print(\"For training examples:{0} the hypothesis is G{0}\".format(i+1),G)\n",
        "    else:\n",
        "      print(\"For training exampes:{0} the hypothesis is G{0}\".format(i+1),temp)\n",
        "  if a[i][num_attributes]=='No':\n",
        "    for j in range(0,num_attributes):\n",
        "      if S[j]!=a[i][j] and S[j]!='?':\n",
        "        G[j] =S[j]\n",
        "        temp.append(G)\n",
        "        G=['?']*num_attributes\n",
        "    print(\"--------------------------------------------------------------------------------------------------------------\")\n",
        "    print(\"Final Specific Hypothesis S{0}\".format(i+1),S)\n",
        "    print(\"Final General hypothesis G{0}\".format(i+1),G)\n"
      ]
    },
    {
      "cell_type": "code",
      "source": [
        ""
      ],
      "metadata": {
        "id": "0a-UWjketss6"
      },
      "execution_count": null,
      "outputs": []
    },
    {
      "cell_type": "code",
      "source": [
        ""
      ],
      "metadata": {
        "id": "tWqb3NC_tswk"
      },
      "execution_count": null,
      "outputs": []
    },
    {
      "cell_type": "code",
      "source": [
        "import numpy as np \n",
        "X = np.array(([2, 9], [1, 5], [3, 6]), dtype=float)\n",
        "y = np.array(([92], [86], [89]), dtype=float)\n",
        "\n",
        "X = X/np.amax(X,axis=0) # Normalize \n",
        "y = y/100\n",
        "def sigmoid(x):\n",
        "    return 1/(1 + np.exp(-x))\n",
        "def sigmoid_grad(x):\n",
        "    return x * (1 - x)\n",
        "\n",
        "epoch=1000\n",
        "eta =0.2\n",
        "input_neurons = 2\n",
        "hidden_neurons = 3\n",
        "output_neurons = 1\n",
        "wh=np.random.uniform(size=(input_neurons,hidden_neurons))\t# 2x3 \n",
        "bh=np.random.uniform(size=(1,hidden_neurons))\t# 1x3 \n",
        "wout=np.random.uniform(size=(hidden_neurons,output_neurons)) # 1x1 \n",
        "bout=np.random.uniform(size=(1,output_neurons))\n",
        "for i in range(epoch):\n",
        "    h_ip=np.dot(X,wh) + bh \n",
        "    h_act = sigmoid(h_ip) \n",
        "    o_ip=np.dot(h_act,wout) + bout\n",
        "    output = sigmoid(o_ip)\n",
        "    \n",
        "    Eo = y-output \n",
        "    outgrad = sigmoid_grad(output)\n",
        "    d_output = Eo* outgrad\n",
        "    \n",
        "    Eh = d_output.dot(wout.T)\n",
        "    hiddengrad = sigmoid_grad(h_act) \n",
        "    d_hidden = Eh * hiddengrad\n",
        "    \n",
        "    wout += h_act.T.dot(d_output) *eta \n",
        "    wh += X.T.dot(d_output) *eta\n",
        "print(\"Normalized Input: \\n\" + str(X))\n",
        "print(\"Actual Output: \\n\" + str(y))\n",
        "print(\"Predicted Output: \\n\" ,output)"
      ],
      "metadata": {
        "colab": {
          "base_uri": "https://localhost:8080/"
        },
        "id": "hhG9tKwG1_wE",
        "outputId": "f08980ce-265e-4cc6-887f-47729d3c0c06"
      },
      "execution_count": null,
      "outputs": [
        {
          "output_type": "stream",
          "name": "stdout",
          "text": [
            "Normalized Input: \n",
            "[[0.66666667 1.        ]\n",
            " [0.33333333 0.55555556]\n",
            " [1.         0.66666667]]\n",
            "Actual Output: \n",
            "[[0.92]\n",
            " [0.86]\n",
            " [0.89]]\n",
            "Predicted Output: \n",
            " [[0.89724212]\n",
            " [0.87820217]\n",
            " [0.89491244]]\n"
          ]
        }
      ]
    },
    {
      "cell_type": "code",
      "source": [
        ""
      ],
      "metadata": {
        "id": "ggzi7FfM1_zU"
      },
      "execution_count": null,
      "outputs": []
    }
  ]
}